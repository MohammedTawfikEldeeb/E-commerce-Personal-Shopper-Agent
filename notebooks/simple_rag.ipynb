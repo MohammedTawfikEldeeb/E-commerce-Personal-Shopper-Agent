{
 "cells": [
  {
   "cell_type": "markdown",
   "id": "27fa1580",
   "metadata": {},
   "source": [
    "## Data Ingestion"
   ]
  },
  {
   "cell_type": "code",
   "execution_count": 14,
   "id": "5afd5dac",
   "metadata": {},
   "outputs": [],
   "source": [
    "db_path = \"../db/ecommerce_products.db\""
   ]
  },
  {
   "cell_type": "code",
   "execution_count": null,
   "id": "e1965740",
   "metadata": {},
   "outputs": [],
   "source": [
    "import json\n",
    "def safe_json_loads(value):\n",
    "    if not value:  \n",
    "        return None\n",
    "    try:\n",
    "        return json.loads(value)\n",
    "    except json.JSONDecodeError:\n",
    "        cleaned = value.replace(\"'\", '\"')  # لو متخزن single quotes\n",
    "        try:\n",
    "            return json.loads(cleaned)\n",
    "        except Exception:\n",
    "            return value  \n"
   ]
  },
  {
   "cell_type": "code",
   "execution_count": 18,
   "id": "ff86545e",
   "metadata": {},
   "outputs": [],
   "source": [
    "import sqlite3\n",
    "import json\n",
    "conn = sqlite3.connect(db_path)\n",
    "conn.row_factory = sqlite3.Row\n",
    "cursor = conn.cursor()\n",
    "query = \"\"\"\n",
    "        SELECT id, product_id, pid, title, brand, category, sub_category,\n",
    "               description, actual_price, selling_price, discount_percentage,\n",
    "               average_rating, out_of_stock, seller, url, images, \n",
    "               product_details, crawled_at\n",
    "        FROM products\n",
    "        \"\"\"\n",
    "cursor.execute(query)\n",
    "rows = cursor.fetchall()\n",
    "        \n",
    "products = []\n",
    "for row in rows:\n",
    "    product = {\n",
    "                'id': row['id'],\n",
    "                'product_id': row['product_id'],\n",
    "                'pid': row['pid'],\n",
    "                'title': row['title'],\n",
    "                'brand': row['brand'],\n",
    "                'category': row['category'],\n",
    "                'sub_category': row['sub_category'],\n",
    "                'description': row['description'],\n",
    "                'actual_price': row['actual_price'],\n",
    "                'selling_price': row['selling_price'],\n",
    "                'discount_percentage': row['discount_percentage'],\n",
    "                'average_rating': row['average_rating'],\n",
    "                'out_of_stock': row['out_of_stock'],\n",
    "                'seller': row['seller'],\n",
    "                'url': row['url'],\n",
    "                'images': safe_json_loads(row['images']) if row['images'] else None,\n",
    "                'product_details': safe_json_loads(row['product_details']) if row['product_details'] else None,\n",
    "                'crawled_at': row['crawled_at']\n",
    "            }\n",
    "    products.append(product)"
   ]
  },
  {
   "cell_type": "code",
   "execution_count": 19,
   "id": "d4cee246",
   "metadata": {},
   "outputs": [
    {
     "data": {
      "text/plain": [
       "{'id': 1,\n",
       " 'product_id': 'fa8e22d6-c0b6-5229-bb9e-ad52eda39a0a',\n",
       " 'pid': 'TKPFCZ9EA7H5FYZH',\n",
       " 'title': 'Solid Men Multicolor Track Pants',\n",
       " 'brand': 'York',\n",
       " 'category': 'Clothing and Accessories',\n",
       " 'sub_category': 'Bottomwear',\n",
       " 'description': '69% off',\n",
       " 'actual_price': 2999,\n",
       " 'selling_price': 921,\n",
       " 'discount_percentage': 'Yorker trackpants made from 100% rich combed cotton giving it a rich look.Designed for Comfort,Skin friendly fabric,itch-free waistband & great for all year round use Proudly made in India',\n",
       " 'average_rating': 3.9,\n",
       " 'out_of_stock': 0,\n",
       " 'seller': 'Shyam Enterprises',\n",
       " 'url': 'https://www.flipkart.com/yorker-solid-men-multicolor-track-pants/p/itmd2c76aadce459?pid=TKPFCZ9EA7H5FYZH&lid=LSTTKPFCZ9EA7H5FYZHVYXWP0&marketplace=FLIPKART&srno=b_1_1&otracker=browse&fm=organic&iid=177a46eb-d053-4732-b3de-fcad6ff59cbd.TKPFCZ9EA7H5FYZH.SEARCH&ssid=utkd4t3gb40000001612415717799',\n",
       " 'images': ['https://rukminim1.flixcart.com/image/128/128/jr3t5e80/track-pant/z/y/n/m-1005combo2-yorker-original-imafczg3xfh5qqd4.jpeg?q=70',\n",
       "  'https://rukminim1.flixcart.com/image/128/128/jr58l8w0/track-pant/w/d/a/l-1005combo8-yorker-original-imafczg3pgtxgraq.jpeg?q=70'],\n",
       " 'product_details': [{'Style Code': '1005COMBO2'},\n",
       "  {'Closure': 'Elastic'},\n",
       "  {'Pockets': 'Side Pockets'},\n",
       "  {'Fabric': 'Cotton Blend'},\n",
       "  {'Pattern': 'Solid'},\n",
       "  {'Color': 'Multicolor'}],\n",
       " 'crawled_at': '2021-10-02 20:11:51'}"
      ]
     },
     "execution_count": 19,
     "metadata": {},
     "output_type": "execute_result"
    }
   ],
   "source": [
    "products[0]"
   ]
  },
  {
   "cell_type": "code",
   "execution_count": 20,
   "id": "5fb400cd",
   "metadata": {},
   "outputs": [
    {
     "data": {
      "text/plain": [
       "30000"
      ]
     },
     "execution_count": 20,
     "metadata": {},
     "output_type": "execute_result"
    }
   ],
   "source": [
    "len(products)"
   ]
  },
  {
   "cell_type": "markdown",
   "id": "11b5956e",
   "metadata": {},
   "source": [
    "## Data Chunking"
   ]
  },
  {
   "cell_type": "code",
   "execution_count": 28,
   "id": "dc06c683",
   "metadata": {},
   "outputs": [],
   "source": [
    "def create_page_content(product):\n",
    "    content = f\"Title: {product['title']}\\n\"\n",
    "    \n",
    "    if product['description']:\n",
    "        content += f\"Description: {product['description']}\\n\"\n",
    "    \n",
    "    content += f\"Category: {product['category']}\\n\"\n",
    "    content += f\"Sub Category: {product['sub_category']}\\n\"\n",
    "    \n",
    "    if product['brand']:\n",
    "        content += f\"Brand: {product['brand']}\\n\"\n",
    "    \n",
    "    if product['selling_price']:\n",
    "        content += f\"Price: ₹{product['selling_price']}\\n\"\n",
    "    \n",
    "    if product['average_rating']:\n",
    "        content += f\"Rating: {product['average_rating']}/5\\n\"\n",
    "    \n",
    "    if product['seller']:\n",
    "        content += f\"Seller: {product['seller']}\\n\"\n",
    "    \n",
    "    if product['product_details']:\n",
    "        content += \"Product Details:\\n\"\n",
    "        \n",
    "        # Normalize product_details\n",
    "        details = product['product_details']\n",
    "        if isinstance(details, str):\n",
    "            try:\n",
    "                details = json.loads(details)  # حاول تفكها لو JSON\n",
    "            except:\n",
    "                details = [details]           # لو مجرد نص عادي\n",
    "        \n",
    "        if isinstance(details, dict):  # لو dict حوله لقائمة\n",
    "            details = [details]\n",
    "        \n",
    "        if isinstance(details, list):  # لو قائمة dicts\n",
    "            for detail in details:\n",
    "                if isinstance(detail, dict):\n",
    "                    for key, value in detail.items():\n",
    "                        content += f\"{key}: {value}\\n\"\n",
    "                else:\n",
    "                    content += f\"- {detail}\\n\"\n",
    "    \n",
    "    return content\n"
   ]
  },
  {
   "cell_type": "code",
   "execution_count": 34,
   "id": "c0902ae9",
   "metadata": {},
   "outputs": [],
   "source": [
    "def create_metadata(product):\n",
    "        metadata = {\n",
    "            'product_id': product['product_id'],\n",
    "            'pid': product['pid'],\n",
    "            'category': product['category'],\n",
    "            'sub_category': product['sub_category'],\n",
    "            'brand': product['brand'],\n",
    "            'selling_price': product['selling_price'],\n",
    "            'average_rating': product['average_rating'],\n",
    "            'out_of_stock': product['out_of_stock'],\n",
    "            'seller': product['seller'],\n",
    "            'images': product['images'],\n",
    "            'url': product['url']\n",
    "        }\n",
    "        return metadata"
   ]
  },
  {
   "cell_type": "code",
   "execution_count": 35,
   "id": "4cb98c57",
   "metadata": {},
   "outputs": [],
   "source": [
    "def chunk_products(products):\n",
    "        chunks = []\n",
    "        \n",
    "        for product in products:\n",
    "            page_content = create_page_content(product)\n",
    "            metadata = create_metadata(product)\n",
    "            \n",
    "            chunk = {\n",
    "                'page_content': page_content,\n",
    "                'metadata': metadata\n",
    "            }\n",
    "            chunks.append(chunk)\n",
    "        \n",
    "        return chunks"
   ]
  },
  {
   "cell_type": "code",
   "execution_count": 36,
   "id": "50e461ae",
   "metadata": {},
   "outputs": [],
   "source": [
    "chunks = chunk_products(products)"
   ]
  },
  {
   "cell_type": "code",
   "execution_count": 37,
   "id": "9e2b76d9",
   "metadata": {},
   "outputs": [
    {
     "data": {
      "text/plain": [
       "30000"
      ]
     },
     "execution_count": 37,
     "metadata": {},
     "output_type": "execute_result"
    }
   ],
   "source": [
    "len(chunks)"
   ]
  },
  {
   "cell_type": "code",
   "execution_count": 38,
   "id": "1f76a4d4",
   "metadata": {},
   "outputs": [
    {
     "data": {
      "text/plain": [
       "{'page_content': 'Title: Solid Men Multicolor Track Pants\\nDescription: 69% off\\nCategory: Clothing and Accessories\\nSub Category: Bottomwear\\nBrand: York\\nPrice: ₹921\\nRating: 3.9/5\\nSeller: Shyam Enterprises\\nProduct Details:\\nStyle Code: 1005COMBO2\\nClosure: Elastic\\nPockets: Side Pockets\\nFabric: Cotton Blend\\nPattern: Solid\\nColor: Multicolor\\n',\n",
       " 'metadata': {'product_id': 'fa8e22d6-c0b6-5229-bb9e-ad52eda39a0a',\n",
       "  'pid': 'TKPFCZ9EA7H5FYZH',\n",
       "  'category': 'Clothing and Accessories',\n",
       "  'sub_category': 'Bottomwear',\n",
       "  'brand': 'York',\n",
       "  'selling_price': 921,\n",
       "  'average_rating': 3.9,\n",
       "  'out_of_stock': 0,\n",
       "  'seller': 'Shyam Enterprises',\n",
       "  'images': ['https://rukminim1.flixcart.com/image/128/128/jr3t5e80/track-pant/z/y/n/m-1005combo2-yorker-original-imafczg3xfh5qqd4.jpeg?q=70',\n",
       "   'https://rukminim1.flixcart.com/image/128/128/jr58l8w0/track-pant/w/d/a/l-1005combo8-yorker-original-imafczg3pgtxgraq.jpeg?q=70'],\n",
       "  'url': 'https://www.flipkart.com/yorker-solid-men-multicolor-track-pants/p/itmd2c76aadce459?pid=TKPFCZ9EA7H5FYZH&lid=LSTTKPFCZ9EA7H5FYZHVYXWP0&marketplace=FLIPKART&srno=b_1_1&otracker=browse&fm=organic&iid=177a46eb-d053-4732-b3de-fcad6ff59cbd.TKPFCZ9EA7H5FYZH.SEARCH&ssid=utkd4t3gb40000001612415717799'}}"
      ]
     },
     "execution_count": 38,
     "metadata": {},
     "output_type": "execute_result"
    }
   ],
   "source": [
    "chunks[0]"
   ]
  },
  {
   "cell_type": "markdown",
   "id": "18409948",
   "metadata": {},
   "source": [
    "## Vectore store"
   ]
  },
  {
   "cell_type": "code",
   "execution_count": null,
   "id": "f9f074f1",
   "metadata": {},
   "outputs": [
    {
     "name": "stdout",
     "output_type": "stream",
     "text": [
      "collections=[]\n"
     ]
    }
   ],
   "source": [
    "from qdrant_client import QdrantClient\n",
    "\n",
    "qdrant_client = QdrantClient(\n",
    "    url=\"\", \n",
    "    api_key=\"\",\n",
    ")\n",
    "\n",
    "print(qdrant_client.get_collections())"
   ]
  },
  {
   "cell_type": "code",
   "execution_count": 70,
   "id": "191478fd",
   "metadata": {},
   "outputs": [
    {
     "data": {
      "text/plain": [
       "True"
      ]
     },
     "execution_count": 70,
     "metadata": {},
     "output_type": "execute_result"
    }
   ],
   "source": [
    "from qdrant_client.http import models\n",
    "qdrant_client.create_collection(\n",
    "    collection_name=\"ecommerce_agent\",\n",
    "    vectors_config=models.VectorParams(\n",
    "        size= 384,\n",
    "        distance=models.Distance.COSINE\n",
    "    )\n",
    ")"
   ]
  },
  {
   "cell_type": "code",
   "execution_count": 71,
   "id": "e8f0e249",
   "metadata": {},
   "outputs": [
    {
     "data": {
      "text/plain": [
       "CollectionsResponse(collections=[CollectionDescription(name='ecommerce_agent')])"
      ]
     },
     "execution_count": 71,
     "metadata": {},
     "output_type": "execute_result"
    }
   ],
   "source": [
    "qdrant_client.get_collections()"
   ]
  },
  {
   "cell_type": "code",
   "execution_count": 57,
   "id": "4ac64613",
   "metadata": {},
   "outputs": [
    {
     "name": "stderr",
     "output_type": "stream",
     "text": [
      "C:\\Users\\moham\\AppData\\Local\\Temp\\ipykernel_10748\\124733854.py:3: LangChainDeprecationWarning: The class `HuggingFaceEmbeddings` was deprecated in LangChain 0.2.2 and will be removed in 1.0. An updated version of the class exists in the :class:`~langchain-huggingface package and should be used instead. To use it run `pip install -U :class:`~langchain-huggingface` and import as `from :class:`~langchain_huggingface import HuggingFaceEmbeddings``.\n",
      "  embedding_model = HuggingFaceEmbeddings(\n"
     ]
    }
   ],
   "source": [
    "from langchain_community.embeddings import HuggingFaceEmbeddings\n",
    "\n",
    "embedding_model = HuggingFaceEmbeddings(\n",
    "    model_name=\"sentence-transformers/all-MiniLM-L6-v2\"\n",
    ")\n"
   ]
  },
  {
   "cell_type": "code",
   "execution_count": 72,
   "id": "634520cc",
   "metadata": {},
   "outputs": [
    {
     "data": {
      "text/plain": [
       "HuggingFaceEmbeddings(client=SentenceTransformer(\n",
       "  (0): Transformer({'max_seq_length': 256, 'do_lower_case': False, 'architecture': 'BertModel'})\n",
       "  (1): Pooling({'word_embedding_dimension': 384, 'pooling_mode_cls_token': False, 'pooling_mode_mean_tokens': True, 'pooling_mode_max_tokens': False, 'pooling_mode_mean_sqrt_len_tokens': False, 'pooling_mode_weightedmean_tokens': False, 'pooling_mode_lasttoken': False, 'include_prompt': True})\n",
       "  (2): Normalize()\n",
       "), model_name='sentence-transformers/all-MiniLM-L6-v2', cache_folder=None, model_kwargs={}, encode_kwargs={}, multi_process=False, show_progress=False)"
      ]
     },
     "execution_count": 72,
     "metadata": {},
     "output_type": "execute_result"
    }
   ],
   "source": [
    "embedding_model"
   ]
  },
  {
   "cell_type": "code",
   "execution_count": 59,
   "id": "7dd878cc",
   "metadata": {},
   "outputs": [
    {
     "name": "stdout",
     "output_type": "stream",
     "text": [
      "[-0.034477200359106064, 0.031023219227790833, 0.0067349993623793125, 0.02610897459089756, -0.03936201333999634, -0.16030248999595642, 0.06692397594451904, -0.006441470701247454, -0.04745051637291908, 0.014758859761059284, 0.07087533175945282, 0.05552757531404495, 0.019193289801478386, -0.026251329109072685, -0.010109508410096169, -0.026940548792481422, 0.022307483479380608, -0.022226618602871895, -0.14969265460968018, -0.01749304309487343, 0.007676269859075546, 0.05435226485133171, 0.003254482988268137, 0.03172600269317627, -0.0846213772892952, -0.02940598875284195, 0.051595672965049744, 0.04812409356236458, -0.003314794274047017, -0.05827922374010086, 0.041969284415245056, 0.022210709750652313, 0.1281888633966446, -0.022338956594467163, -0.011656241491436958, 0.06292833387851715, -0.032876305282115936, -0.09122610837221146, -0.03117538057267666, 0.05269957706332207, 0.047034792602062225, -0.08420304954051971, -0.0300561785697937, -0.020744718611240387, 0.009517784230411053, -0.003721792483702302, 0.007343328557908535, 0.03932436183094978, 0.09327410906553268, -0.0037885827478021383, -0.052742086350917816, -0.05805819109082222, -0.0068643949925899506, 0.005283229053020477, 0.08289298415184021, 0.019362755119800568, 0.0062844837084412575, -0.010330805554986, 0.009032356552779675, -0.037683770060539246, -0.04520607367157936, 0.02401638962328434, -0.0069442023523151875, 0.013491633348166943, 0.10005491971969604, -0.071683868765831, -0.02169504575431347, 0.03161846846342087, -0.05163463577628136, -0.08224768191576004, -0.06569331139326096, -0.00989536102861166, 0.0058163986541330814, 0.07355453819036484, -0.03405030816793442, 0.02488601580262184, 0.01448806282132864, 0.026457400992512703, 0.009656714275479317, 0.030217286199331284, 0.052803970873355865, -0.07535988092422485, 0.009897174313664436, 0.029836837202310562, 0.017555566504597664, 0.023091990500688553, 0.0019339261343702674, 0.0014001254457980394, -0.04717599228024483, -0.011194380931556225, -0.11420133709907532, -0.019812004640698433, 0.04026623070240021, 0.0021929889917373657, -0.07979222387075424, -0.02538231387734413, 0.09448292851448059, -0.02898111194372177, -0.14500252902507782, 0.23097743093967438, 0.027731100097298622, 0.032111480832099915, 0.031064996495842934, 0.04283281788229942, 0.06423777341842651, 0.03216314688324928, -0.00487674493342638, 0.055699415504932404, -0.03753236308693886, -0.0215055663138628, -0.028342649340629578, -0.028846941888332367, 0.03835311904549599, -0.01746867224574089, 0.05248536914587021, -0.07487605512142181, -0.03125976398587227, 0.021841533482074738, -0.03989564999938011, -0.008587109856307507, 0.026956573128700256, -0.04849550500512123, 0.011469874531030655, 0.029618263244628906, -0.020572170615196228, 0.013103901408612728, 0.028833406046032906, -3.194200554190157e-33, 0.0647820383310318, -0.018130239099264145, 0.051789943128824234, 0.12198273092508316, 0.028780145570635796, 0.0087220324203372, -0.07052115350961685, -0.01690724864602089, 0.040739696472883224, 0.042116180062294006, 0.02544722706079483, 0.03574619069695473, -0.04914474114775658, 0.002129100728780031, -0.015546616166830063, 0.05073058605194092, -0.048185259103775024, 0.03588063269853592, -0.004067067988216877, 0.10172475874423981, -0.05597001686692238, -0.010680987499654293, 0.011235800571739674, 0.09068652987480164, 0.004234495107084513, 0.035138655453920364, -0.009702835232019424, -0.09386523813009262, 0.09285551309585571, 0.00800494384020567, -0.007705416064709425, -0.052086714655160904, -0.012587959878146648, 0.0032668698113411665, 0.0060135237872600555, 0.007581581827253103, 0.010517198592424393, -0.08634552359580994, -0.06987876445055008, -0.0025338700506836176, -0.09097661077976227, 0.04688737168908119, 0.05207647755742073, 0.007193892262876034, 0.010903597809374332, -0.005229538772255182, 0.013937323354184628, 0.02196837216615677, 0.03420856222510338, 0.060224637389183044, 0.00011661044845823199, 0.014731992967426777, -0.07008922845125198, 0.02849903516471386, -0.027601642534136772, 0.010768351145088673, 0.03483092412352562, -0.022487878799438477, 0.00976911373436451, 0.07722778618335724, 0.021588344126939774, 0.11495622247457504, -0.06800113618373871, 0.023761043325066566, -0.015983911231160164, -0.01782696507871151, 0.06439494341611862, 0.03202573582530022, 0.05027022957801819, -0.005913649220019579, -0.03370799124240875, 0.017840316519141197, 0.01657339744269848, 0.06329654157161713, 0.03467720001935959, 0.04647345840930939, 0.09790614992380142, -0.006635494064539671, 0.02520708367228508, -0.0779883861541748, 0.01692640222609043, -0.0009457881096750498, 0.02247185818850994, -0.038253240287303925, 0.09570475667715073, -0.00535071175545454, 0.010469038039445877, -0.11524058878421783, -0.013262532651424408, -0.010709351859986782, -0.08311721682548523, 0.07327357679605484, 0.049392201006412506, -0.008994361385703087, -0.09584556519985199, 3.366149296434549e-33, 0.12493181973695755, 0.019349709153175354, -0.0582258477807045, -0.03598824888467789, -0.050746746361255646, -0.04566233605146408, -0.08260342478752136, 0.14819477498531342, -0.08842117339372635, 0.06027441471815109, 0.05103025957942009, 0.010303089395165443, 0.14121423661708832, 0.030813878402113914, 0.06103307381272316, -0.05285125970840454, 0.13664892315864563, 0.009189915843307972, -0.017325272783637047, -0.012848668731749058, -0.00799528043717146, -0.05098002031445503, -0.052350591868162155, 0.007593057118356228, -0.015166228637099266, 0.016960326582193375, 0.021270541474223137, 0.02055799402296543, -0.1200280711054802, 0.014461806043982506, 0.02675984986126423, 0.025330591946840286, -0.0427546426653862, 0.006768474821001291, -0.01445858832448721, 0.045261986553668976, -0.09147657454013824, -0.019439177587628365, -0.017833461984992027, -0.05491012707352638, -0.052641063928604126, -0.010459036566317081, -0.05201602354645729, 0.020892051979899406, -0.07997025549411774, -0.012111312709748745, -0.05773141607642174, 0.02317824214696884, -0.00803161971271038, -0.025989310815930367, -0.07995670288801193, -0.02072887495160103, 0.048817772418260574, -0.02038920484483242, -0.049176573753356934, 0.01415967382490635, -0.06362210959196091, -0.007807392161339521, 0.016431482508778572, -0.02568255178630352, 0.01338108442723751, 0.026248762384057045, 0.009978335350751877, 0.06322894990444183, 0.0026721502654254436, -0.006582724861800671, 0.016632026061415672, 0.03236645832657814, 0.03794251009821892, -0.036376021802425385, -0.006910946220159531, 0.00015967455692589283, -0.001633585779927671, -0.02727823331952095, -0.028038015589118004, 0.04968152567744255, -0.028867164626717567, -0.002418051240965724, 0.014774874784052372, 0.009764568880200386, 0.005797559395432472, 0.013486078940331936, 0.005567895248532295, 0.0372270792722702, 0.007232493255287409, 0.04015621170401573, 0.08150321245193481, 0.07199164479970932, -0.01305615995079279, -0.04288202524185181, -0.011011214926838875, 0.004897830542176962, -0.009229752235114574, 0.03519146889448166, -0.05103498697280884, -1.5714373802211412e-08, -0.08862444013357162, 0.0239093154668808, -0.01623874343931675, 0.03170047700405121, 0.027284175157546997, 0.05246879905462265, -0.04707096517086029, -0.058847445994615555, -0.0632082149386406, 0.04088853672146797, 0.049827940762043, 0.10655166208744049, -0.07450233399868011, -0.012495458126068115, 0.018370643258094788, 0.039474066346883774, -0.024797869846224785, 0.01451625395566225, -0.03706921264529228, 0.020015696063637733, -4.8594301915727556e-05, 0.00986657477915287, 0.024838784709572792, -0.05245809629559517, 0.029314136132597923, -0.08719196915626526, -0.014499745331704617, 0.026019057258963585, -0.018746383488178253, -0.07620513439178467, 0.035043250769376755, 0.10363949090242386, -0.02805054932832718, 0.012718234211206436, -0.07632549107074738, -0.018652433529496193, 0.02497669868171215, 0.08144541829824448, 0.06875890493392944, -0.0640566349029541, -0.08389392495155334, 0.061362382024526596, -0.033545587211847305, -0.10615341365337372, -0.04008050262928009, 0.03253019228577614, 0.07662486284971237, -0.07301613688468933, 0.0003375994274392724, -0.04087162762880325, -0.0757884681224823, 0.027527686208486557, 0.07462546974420547, 0.01771729253232479, 0.09121839702129364, 0.11022018641233444, 0.0005698270397260785, 0.05146332085132599, -0.014551276341080666, 0.03323199599981308, 0.023792244493961334, -0.022889798507094383, 0.03893755376338959, 0.030206795781850815]\n"
     ]
    }
   ],
   "source": [
    "\n",
    "print(embedding_model.embed_query(\"hello world\"))\n"
   ]
  },
  {
   "cell_type": "code",
   "execution_count": 73,
   "id": "45f597f4",
   "metadata": {},
   "outputs": [],
   "source": [
    "import uuid\n",
    "from qdrant_client.http import models\n",
    "\n",
    "collection_name = \"ecommerce_agent\"\n",
    "points = []\n",
    "\n",
    "for i, chunk in enumerate(chunks):\n",
    "    embedding = embedding_model.embed_query(chunk['page_content'])\n",
    "\n",
    "    point = models.PointStruct(\n",
    "        id=str(uuid.uuid4()),\n",
    "        vector=embedding,\n",
    "        payload={\n",
    "            'page_content': chunk['page_content'],\n",
    "            'metadata': chunk['metadata']\n",
    "        }\n",
    "    )\n",
    "    points.append(point)\n"
   ]
  },
  {
   "cell_type": "code",
   "execution_count": 74,
   "id": "9be16cf9",
   "metadata": {},
   "outputs": [
    {
     "data": {
      "text/plain": [
       "30000"
      ]
     },
     "execution_count": 74,
     "metadata": {},
     "output_type": "execute_result"
    }
   ],
   "source": [
    "len(points)"
   ]
  },
  {
   "cell_type": "code",
   "execution_count": 75,
   "id": "d6057776",
   "metadata": {},
   "outputs": [
    {
     "data": {
      "text/plain": [
       "PointStruct(id='c4191a91-0b44-440d-8b63-ba2833b4a182', vector=[-0.032634928822517395, -0.004320177249610424, -0.033641185611486435, 0.02179153636097908, -0.04127698391675949, 0.02397557720541954, 0.08336371928453445, -0.017469165846705437, -0.06932464987039566, -0.001814628136344254, -0.05935072526335716, 0.007426005322486162, -0.008464987389743328, -0.021200666204094887, 0.010349545627832413, 0.033993206918239594, 0.053395189344882965, 0.004772611428052187, -0.026422375813126564, -0.0004505014221649617, 0.026870636269450188, -0.02919613942503929, -0.007550187408924103, -0.003944529686123133, -0.11305499821901321, -0.020931124687194824, 0.018435275182127953, 0.08014246821403503, -0.05535128712654114, -0.04475603625178337, -0.004381145350635052, 0.09799477458000183, 0.0822453424334526, -0.02043868415057659, 0.023853609338402748, -0.12567585706710815, 0.008281808346509933, -0.017353782430291176, -0.039107631891965866, 0.04244593530893326, -0.051334355026483536, -0.03935019671916962, -0.019825058057904243, 0.0655212327837944, 0.0417531318962574, 0.008911323733627796, -0.03471794351935387, 0.004817515145987272, 0.008139053359627724, 0.011849227361381054, 0.011631342582404613, -0.024469029158353806, 0.0036485930904746056, 0.05426108464598656, 0.009566783905029297, -0.005300474353134632, -0.006826221011579037, 0.0030576391145586967, -0.0030406410805881023, -0.10547047108411789, -0.013030951842665672, 0.04745006933808327, -0.022935159504413605, -0.009336976334452629, 0.09076714515686035, 0.0020940324757248163, -0.06288950890302658, 0.0749836191534996, -0.06800567358732224, 0.03737780079245567, 0.10375432670116425, 0.015741849318146706, 0.012534688226878643, 0.007490611169487238, -0.007923390716314316, 0.033957187086343765, 0.006453004665672779, -0.001249399851076305, -0.06916676461696625, -0.030681710690259933, -0.04733724147081375, -0.06725820899009705, -0.01803942210972309, 0.056131597608327866, 0.03130029886960983, -0.0030221801716834307, 0.02270706184208393, 0.0027690534479916096, -0.08563467115163803, 0.003626087447628379, -0.0588110126554966, 0.07605841010808945, -0.02271595224738121, -0.03965773805975914, -0.060121938586235046, 0.010418275371193886, -0.04098791629076004, 0.018710050731897354, -0.022558098658919334, 0.0031138404738157988, 0.06030120700597763, -0.02249571867287159, 0.1191343143582344, -0.020068135112524033, -0.015611963346600533, -0.052916139364242554, 0.0504382885992527, 0.09739333391189575, 0.08383569121360779, 0.018107278272509575, -0.015246951021254063, 0.014639020897448063, -0.0346827507019043, 0.013203516602516174, -0.032472703605890274, -0.056904397904872894, -0.07788374274969101, 0.09131128340959549, 0.08246137946844101, 0.0073981876485049725, -0.046047843992710114, 0.014478943310678005, -0.03797170892357826, 0.007246498949825764, -0.11437463015317917, -0.03417089208960533, 0.05127102509140968, 4.258304325644555e-33, -0.0027603949420154095, -0.009280060417950153, 0.008368677459657192, -0.022940952330827713, 0.014207284897565842, -0.04001637548208237, -0.03227744251489639, -0.1259830743074417, -0.0758647471666336, 0.06219435855746269, 0.021351316943764687, -0.03140982985496521, -0.02221807837486267, 0.07610856741666794, 0.014354371465742588, -0.06984233111143112, -0.010722890496253967, -0.042713358998298645, -0.012567326426506042, 0.0262420866638422, -0.08726124465465546, 0.07717811316251755, -0.009411673061549664, -0.04001304879784584, 0.06844702363014221, 0.021527500823140144, -0.005361149087548256, 0.010094054974615574, 0.025413362309336662, 0.020052878186106682, 0.016611216589808464, 0.05265100672841072, 0.042355023324489594, 0.03229654207825661, -0.06504952162504196, -0.009325359016656876, -0.10240726172924042, -0.01874980889260769, 0.003223717911168933, 0.030910907313227654, 0.03934578597545624, -0.010098746977746487, -0.03960670530796051, 0.004210596438497305, 0.006034412886947393, 0.04705400764942169, 0.08695270866155624, 0.08638471364974976, 0.07653216272592545, 0.016346463933587074, -0.11909044533967972, 0.021997204050421715, -0.015347212553024292, -0.09621253609657288, -0.025973431766033173, -0.1151113286614418, 0.01233373861759901, 0.01564464159309864, 0.011898928321897984, 0.02084365114569664, 0.05663719028234482, 0.049971919506788254, 0.026652870699763298, -0.0990191102027893, -0.04498022049665451, -0.05562272667884827, 0.027876129373908043, -0.012828589417040348, 0.028480621054768562, 0.006206116639077663, -0.07353860884904861, 0.020823797211050987, 0.056645717471838, 0.036916445940732956, 0.12723292410373688, -0.016545509919524193, 0.025365781038999557, 0.015284711495041847, 0.05349359288811684, -0.03345056623220444, -0.002612161682918668, -0.020889174193143845, 2.3166625396697782e-05, -0.0005325090605765581, -0.07103358954191208, 0.030728403478860855, -0.005708267446607351, 0.006656219717115164, -0.06492871791124344, 0.008164008148014545, -0.01524442434310913, -0.082147516310215, -0.08351297676563263, 0.06996510177850723, -0.03381400182843208, -6.906376081914432e-33, 0.03257221356034279, 0.09674037992954254, 0.03153890743851662, 0.057164765894412994, 0.08732175081968307, -0.013798803091049194, 0.012648183852434158, 0.08968362957239151, 0.0632023811340332, 0.11551541835069656, 0.09022005647420883, 0.020496239885687828, 0.0014664418995380402, 0.02962380088865757, 0.034594785422086716, -0.01424565352499485, -0.002083012368530035, 0.02433113381266594, -0.007239923346787691, -0.020280882716178894, 0.016744868829846382, -0.026257796213030815, 0.04542847350239754, -0.03759912773966789, -0.09352865815162659, 0.06271133571863174, 0.03749769181013107, 0.01737186685204506, -0.05538448318839073, 0.051860444247722626, 0.04578491672873497, -0.014292771928012371, -0.06554858386516571, 0.04209441691637039, -0.048425864428281784, -0.10890141874551773, 0.01638851687312126, 0.0812237486243248, 0.022227495908737183, 0.07217582315206528, -0.025600671768188477, 0.0023190630599856377, 0.04218640550971031, 0.03698348253965378, -0.016067033633589745, -0.07511086761951447, -0.016987599432468414, 0.00690313708037138, -0.08462870866060257, -0.04702896624803543, -0.07068850845098495, 0.0625610277056694, -0.019533347338438034, -0.012085405178368092, 0.030956599861383438, -0.015164637006819248, -0.058473557233810425, 0.015761038288474083, -0.04788905754685402, 0.10593064874410629, -0.025552429258823395, 0.12632304430007935, -0.010454442352056503, -0.0010490561835467815, 0.05361590534448624, 0.04960544779896736, -0.03001648560166359, -0.09330011159181595, -0.08860551565885544, -0.014386369846761227, 0.005071081221103668, -0.07467854768037796, 0.0011408637510612607, -0.009299261495471, 0.02044011279940605, -0.06164199858903885, -0.021965963765978813, 0.05963907763361931, 0.004270946606993675, 0.04693193733692169, 0.07233166694641113, -0.053812991827726364, 0.03300345689058304, 0.04079780727624893, -0.024662496522068977, 0.07751768827438354, -0.0034826169721782207, 0.09657815098762512, 0.02780141681432724, -0.022132063284516335, 0.04164005070924759, 0.05409259349107742, -0.014629215933382511, -0.0031685444992035627, -0.0719754546880722, -4.5237605661441194e-08, -0.010662583634257317, -0.0005601176526397467, 0.03177977353334427, -0.010259917005896568, -0.0037216064520180225, -0.00711688119918108, -0.01061942894011736, -0.042513735592365265, 0.057809099555015564, 0.11135885864496231, 0.03317252919077873, -0.05885758250951767, -0.1070903018116951, -0.03942030295729637, -0.0663670152425766, -0.041566476225852966, -0.10550665110349655, 0.03133935108780861, -0.009089753963053226, -0.03875705227255821, 0.05268578976392746, -0.02821561135351658, 0.024486815556883812, 0.03726068139076233, 0.024184055626392365, 0.010124264284968376, -0.05900810658931732, -0.042504023760557175, -0.0073530105873942375, 0.05954456701874733, 0.04587434604763985, 0.06185734644532204, -0.014421417377889156, -0.07438413053750992, -0.03484571352601051, -0.05734343081712723, -0.04056964069604874, 0.03854496404528618, 0.06737609952688217, -0.018558016046881676, -0.026502786204218864, -0.09467984735965729, 0.054258283227682114, 0.012716297060251236, 0.08254920691251755, -0.08906509727239609, 0.0036261819768697023, 0.007942537777125835, -0.09339970350265503, -0.0001575207570567727, -0.026415392756462097, -0.06352818012237549, -0.024429436773061752, 0.026709577068686485, 0.010727467946708202, -0.11981888115406036, -0.1128218024969101, 0.05541684851050377, 0.013984906487166882, 0.025683555752038956, 0.006636998616158962, -0.173750102519989, -0.10949010401964188, 0.01941894367337227], payload={'page_content': 'Title: Solid Men Multicolor Track Pants\\nDescription: 69% off\\nCategory: Clothing and Accessories\\nSub Category: Bottomwear\\nBrand: York\\nPrice: ₹921\\nRating: 3.9/5\\nSeller: Shyam Enterprises\\nProduct Details:\\nStyle Code: 1005COMBO2\\nClosure: Elastic\\nPockets: Side Pockets\\nFabric: Cotton Blend\\nPattern: Solid\\nColor: Multicolor\\n', 'metadata': {'product_id': 'fa8e22d6-c0b6-5229-bb9e-ad52eda39a0a', 'pid': 'TKPFCZ9EA7H5FYZH', 'category': 'Clothing and Accessories', 'sub_category': 'Bottomwear', 'brand': 'York', 'selling_price': 921, 'average_rating': 3.9, 'out_of_stock': 0, 'seller': 'Shyam Enterprises', 'images': ['https://rukminim1.flixcart.com/image/128/128/jr3t5e80/track-pant/z/y/n/m-1005combo2-yorker-original-imafczg3xfh5qqd4.jpeg?q=70', 'https://rukminim1.flixcart.com/image/128/128/jr58l8w0/track-pant/w/d/a/l-1005combo8-yorker-original-imafczg3pgtxgraq.jpeg?q=70'], 'url': 'https://www.flipkart.com/yorker-solid-men-multicolor-track-pants/p/itmd2c76aadce459?pid=TKPFCZ9EA7H5FYZH&lid=LSTTKPFCZ9EA7H5FYZHVYXWP0&marketplace=FLIPKART&srno=b_1_1&otracker=browse&fm=organic&iid=177a46eb-d053-4732-b3de-fcad6ff59cbd.TKPFCZ9EA7H5FYZH.SEARCH&ssid=utkd4t3gb40000001612415717799'}})"
      ]
     },
     "execution_count": 75,
     "metadata": {},
     "output_type": "execute_result"
    }
   ],
   "source": [
    "points[0]"
   ]
  },
  {
   "cell_type": "code",
   "execution_count": 78,
   "id": "93755551",
   "metadata": {},
   "outputs": [
    {
     "name": "stdout",
     "output_type": "stream",
     "text": [
      "✅ Inserted batch 1\n",
      "✅ Inserted batch 2\n",
      "✅ Inserted batch 3\n",
      "✅ Inserted batch 4\n",
      "✅ Inserted batch 5\n",
      "✅ Inserted batch 6\n",
      "✅ Inserted batch 7\n",
      "✅ Inserted batch 8\n",
      "✅ Inserted batch 9\n",
      "✅ Inserted batch 10\n",
      "✅ Inserted batch 11\n",
      "✅ Inserted batch 12\n",
      "✅ Inserted batch 13\n",
      "✅ Inserted batch 14\n",
      "✅ Inserted batch 15\n",
      "✅ Inserted batch 16\n",
      "✅ Inserted batch 17\n",
      "✅ Inserted batch 18\n",
      "✅ Inserted batch 19\n",
      "✅ Inserted batch 20\n",
      "✅ Inserted batch 21\n",
      "✅ Inserted batch 22\n",
      "✅ Inserted batch 23\n",
      "✅ Inserted batch 24\n",
      "✅ Inserted batch 25\n",
      "✅ Inserted batch 26\n",
      "✅ Inserted batch 27\n",
      "✅ Inserted batch 28\n",
      "✅ Inserted batch 29\n",
      "✅ Inserted batch 30\n",
      "✅ Inserted batch 31\n",
      "✅ Inserted batch 32\n",
      "✅ Inserted batch 33\n",
      "✅ Inserted batch 34\n",
      "✅ Inserted batch 35\n",
      "✅ Inserted batch 36\n",
      "✅ Inserted batch 37\n",
      "✅ Inserted batch 38\n",
      "✅ Inserted batch 39\n",
      "✅ Inserted batch 40\n",
      "✅ Inserted batch 41\n",
      "✅ Inserted batch 42\n",
      "✅ Inserted batch 43\n",
      "✅ Inserted batch 44\n",
      "✅ Inserted batch 45\n",
      "✅ Inserted batch 46\n",
      "✅ Inserted batch 47\n",
      "✅ Inserted batch 48\n",
      "✅ Inserted batch 49\n",
      "✅ Inserted batch 50\n",
      "✅ Inserted batch 51\n",
      "✅ Inserted batch 52\n",
      "✅ Inserted batch 53\n",
      "✅ Inserted batch 54\n",
      "✅ Inserted batch 55\n",
      "✅ Inserted batch 56\n",
      "✅ Inserted batch 57\n",
      "✅ Inserted batch 58\n",
      "✅ Inserted batch 59\n",
      "✅ Inserted batch 60\n",
      "✅ Inserted batch 61\n",
      "✅ Inserted batch 62\n",
      "✅ Inserted batch 63\n",
      "✅ Inserted batch 64\n",
      "✅ Inserted batch 65\n",
      "✅ Inserted batch 66\n",
      "✅ Inserted batch 67\n",
      "✅ Inserted batch 68\n",
      "✅ Inserted batch 69\n",
      "✅ Inserted batch 70\n",
      "✅ Inserted batch 71\n",
      "✅ Inserted batch 72\n",
      "✅ Inserted batch 73\n",
      "✅ Inserted batch 74\n",
      "✅ Inserted batch 75\n",
      "✅ Inserted batch 76\n",
      "✅ Inserted batch 77\n",
      "✅ Inserted batch 78\n",
      "✅ Inserted batch 79\n",
      "✅ Inserted batch 80\n",
      "✅ Inserted batch 81\n",
      "✅ Inserted batch 82\n",
      "✅ Inserted batch 83\n",
      "✅ Inserted batch 84\n",
      "✅ Inserted batch 85\n",
      "✅ Inserted batch 86\n",
      "✅ Inserted batch 87\n",
      "✅ Inserted batch 88\n",
      "✅ Inserted batch 89\n",
      "✅ Inserted batch 90\n",
      "✅ Inserted batch 91\n",
      "✅ Inserted batch 92\n",
      "✅ Inserted batch 93\n",
      "✅ Inserted batch 94\n",
      "✅ Inserted batch 95\n",
      "✅ Inserted batch 96\n",
      "✅ Inserted batch 97\n",
      "✅ Inserted batch 98\n",
      "✅ Inserted batch 99\n",
      "✅ Inserted batch 100\n",
      "✅ Inserted batch 101\n",
      "✅ Inserted batch 102\n",
      "✅ Inserted batch 103\n",
      "✅ Inserted batch 104\n",
      "✅ Inserted batch 105\n",
      "✅ Inserted batch 106\n",
      "✅ Inserted batch 107\n",
      "✅ Inserted batch 108\n",
      "✅ Inserted batch 109\n",
      "✅ Inserted batch 110\n",
      "✅ Inserted batch 111\n",
      "✅ Inserted batch 112\n",
      "✅ Inserted batch 113\n",
      "✅ Inserted batch 114\n",
      "✅ Inserted batch 115\n",
      "✅ Inserted batch 116\n",
      "✅ Inserted batch 117\n",
      "✅ Inserted batch 118\n",
      "✅ Inserted batch 119\n",
      "✅ Inserted batch 120\n",
      "✅ Inserted batch 121\n",
      "✅ Inserted batch 122\n",
      "✅ Inserted batch 123\n",
      "✅ Inserted batch 124\n",
      "✅ Inserted batch 125\n",
      "✅ Inserted batch 126\n",
      "✅ Inserted batch 127\n",
      "✅ Inserted batch 128\n",
      "✅ Inserted batch 129\n",
      "✅ Inserted batch 130\n",
      "✅ Inserted batch 131\n",
      "✅ Inserted batch 132\n",
      "✅ Inserted batch 133\n",
      "✅ Inserted batch 134\n",
      "✅ Inserted batch 135\n",
      "✅ Inserted batch 136\n",
      "✅ Inserted batch 137\n",
      "✅ Inserted batch 138\n",
      "✅ Inserted batch 139\n",
      "✅ Inserted batch 140\n",
      "✅ Inserted batch 141\n",
      "✅ Inserted batch 142\n",
      "✅ Inserted batch 143\n",
      "✅ Inserted batch 144\n",
      "✅ Inserted batch 145\n",
      "✅ Inserted batch 146\n",
      "✅ Inserted batch 147\n",
      "✅ Inserted batch 148\n",
      "✅ Inserted batch 149\n",
      "✅ Inserted batch 150\n",
      "✅ Inserted batch 151\n",
      "✅ Inserted batch 152\n",
      "✅ Inserted batch 153\n",
      "✅ Inserted batch 154\n",
      "✅ Inserted batch 155\n",
      "✅ Inserted batch 156\n",
      "✅ Inserted batch 157\n",
      "✅ Inserted batch 158\n",
      "✅ Inserted batch 159\n",
      "✅ Inserted batch 160\n",
      "✅ Inserted batch 161\n",
      "✅ Inserted batch 162\n",
      "✅ Inserted batch 163\n",
      "✅ Inserted batch 164\n",
      "✅ Inserted batch 165\n",
      "✅ Inserted batch 166\n",
      "✅ Inserted batch 167\n",
      "✅ Inserted batch 168\n",
      "✅ Inserted batch 169\n",
      "✅ Inserted batch 170\n",
      "✅ Inserted batch 171\n",
      "✅ Inserted batch 172\n",
      "✅ Inserted batch 173\n",
      "✅ Inserted batch 174\n",
      "✅ Inserted batch 175\n",
      "✅ Inserted batch 176\n",
      "✅ Inserted batch 177\n",
      "✅ Inserted batch 178\n",
      "✅ Inserted batch 179\n",
      "✅ Inserted batch 180\n",
      "✅ Inserted batch 181\n",
      "✅ Inserted batch 182\n",
      "✅ Inserted batch 183\n",
      "✅ Inserted batch 184\n",
      "✅ Inserted batch 185\n",
      "✅ Inserted batch 186\n",
      "✅ Inserted batch 187\n",
      "✅ Inserted batch 188\n",
      "✅ Inserted batch 189\n",
      "✅ Inserted batch 190\n",
      "✅ Inserted batch 191\n",
      "✅ Inserted batch 192\n",
      "✅ Inserted batch 193\n",
      "✅ Inserted batch 194\n",
      "✅ Inserted batch 195\n",
      "✅ Inserted batch 196\n",
      "✅ Inserted batch 197\n",
      "✅ Inserted batch 198\n",
      "✅ Inserted batch 199\n",
      "✅ Inserted batch 200\n",
      "✅ Inserted batch 201\n",
      "✅ Inserted batch 202\n",
      "✅ Inserted batch 203\n",
      "✅ Inserted batch 204\n",
      "✅ Inserted batch 205\n",
      "✅ Inserted batch 206\n",
      "✅ Inserted batch 207\n",
      "✅ Inserted batch 208\n",
      "✅ Inserted batch 209\n",
      "✅ Inserted batch 210\n",
      "✅ Inserted batch 211\n",
      "✅ Inserted batch 212\n",
      "✅ Inserted batch 213\n",
      "✅ Inserted batch 214\n",
      "✅ Inserted batch 215\n",
      "✅ Inserted batch 216\n",
      "✅ Inserted batch 217\n",
      "✅ Inserted batch 218\n",
      "✅ Inserted batch 219\n",
      "✅ Inserted batch 220\n",
      "✅ Inserted batch 221\n",
      "✅ Inserted batch 222\n",
      "✅ Inserted batch 223\n",
      "✅ Inserted batch 224\n",
      "✅ Inserted batch 225\n",
      "✅ Inserted batch 226\n",
      "✅ Inserted batch 227\n",
      "✅ Inserted batch 228\n",
      "✅ Inserted batch 229\n",
      "✅ Inserted batch 230\n",
      "✅ Inserted batch 231\n",
      "✅ Inserted batch 232\n",
      "✅ Inserted batch 233\n",
      "✅ Inserted batch 234\n",
      "✅ Inserted batch 235\n",
      "✅ Inserted batch 236\n",
      "✅ Inserted batch 237\n",
      "✅ Inserted batch 238\n",
      "✅ Inserted batch 239\n",
      "✅ Inserted batch 240\n",
      "✅ Inserted batch 241\n",
      "✅ Inserted batch 242\n",
      "✅ Inserted batch 243\n",
      "✅ Inserted batch 244\n",
      "✅ Inserted batch 245\n",
      "✅ Inserted batch 246\n",
      "✅ Inserted batch 247\n",
      "✅ Inserted batch 248\n",
      "✅ Inserted batch 249\n",
      "✅ Inserted batch 250\n",
      "✅ Inserted batch 251\n",
      "✅ Inserted batch 252\n",
      "✅ Inserted batch 253\n",
      "✅ Inserted batch 254\n",
      "✅ Inserted batch 255\n",
      "✅ Inserted batch 256\n",
      "✅ Inserted batch 257\n",
      "✅ Inserted batch 258\n",
      "✅ Inserted batch 259\n",
      "✅ Inserted batch 260\n",
      "✅ Inserted batch 261\n",
      "✅ Inserted batch 262\n",
      "✅ Inserted batch 263\n",
      "✅ Inserted batch 264\n",
      "✅ Inserted batch 265\n",
      "✅ Inserted batch 266\n",
      "✅ Inserted batch 267\n",
      "✅ Inserted batch 268\n",
      "✅ Inserted batch 269\n",
      "✅ Inserted batch 270\n",
      "✅ Inserted batch 271\n",
      "✅ Inserted batch 272\n",
      "✅ Inserted batch 273\n",
      "✅ Inserted batch 274\n",
      "✅ Inserted batch 275\n",
      "✅ Inserted batch 276\n",
      "✅ Inserted batch 277\n",
      "✅ Inserted batch 278\n",
      "✅ Inserted batch 279\n",
      "✅ Inserted batch 280\n",
      "✅ Inserted batch 281\n",
      "✅ Inserted batch 282\n",
      "✅ Inserted batch 283\n",
      "✅ Inserted batch 284\n",
      "✅ Inserted batch 285\n",
      "✅ Inserted batch 286\n",
      "✅ Inserted batch 287\n",
      "✅ Inserted batch 288\n",
      "✅ Inserted batch 289\n",
      "✅ Inserted batch 290\n",
      "✅ Inserted batch 291\n",
      "✅ Inserted batch 292\n",
      "✅ Inserted batch 293\n",
      "✅ Inserted batch 294\n",
      "✅ Inserted batch 295\n",
      "✅ Inserted batch 296\n",
      "✅ Inserted batch 297\n",
      "✅ Inserted batch 298\n",
      "✅ Inserted batch 299\n",
      "✅ Inserted batch 300\n"
     ]
    }
   ],
   "source": [
    "batch_size = 100\n",
    "for i in range(0, len(points), batch_size):\n",
    "    batch = points[i:i+batch_size]\n",
    "    qdrant_client.upsert(\n",
    "        collection_name=collection_name,\n",
    "        points=batch\n",
    "    )\n",
    "    print(f\"✅ Inserted batch {i//batch_size + 1}\")"
   ]
  },
  {
   "cell_type": "code",
   "execution_count": 79,
   "id": "3feb9516",
   "metadata": {},
   "outputs": [],
   "source": [
    "def search(query, limit=5):\n",
    "        query_embedding = embedding_model.embed_query(query)\n",
    "        \n",
    "        results = qdrant_client.search(\n",
    "            collection_name=collection_name,\n",
    "            query_vector=query_embedding,\n",
    "            limit=limit\n",
    "        )\n",
    "        \n",
    "        return results"
   ]
  },
  {
   "cell_type": "code",
   "execution_count": 82,
   "id": "c7a71578",
   "metadata": {},
   "outputs": [
    {
     "name": "stderr",
     "output_type": "stream",
     "text": [
      "C:\\Users\\moham\\AppData\\Local\\Temp\\ipykernel_10748\\2067662330.py:4: DeprecationWarning: `search` method is deprecated and will be removed in the future. Use `query_points` instead.\n",
      "  results = qdrant_client.search(\n"
     ]
    }
   ],
   "source": [
    "query = \"is Full Sleeve avilable\"\n",
    "result = search(query)"
   ]
  },
  {
   "cell_type": "code",
   "execution_count": 83,
   "id": "664ee4ff",
   "metadata": {},
   "outputs": [
    {
     "data": {
      "text/plain": [
       "[ScoredPoint(id='47eb4b99-3bde-4752-85d3-dc06e14990c5', version=279, score=0.5745871, payload={'page_content': 'Title: Full Sleeve Solid Men Sweatshirt\\nDescription: 65% off\\nCategory: Clothing and Accessories\\nSub Category: Winter Wear\\nBrand: Pu\\nPrice: ₹979\\nRating: 3.8/5\\nSeller: RetailNet\\nProduct Details:\\nColor: Blue\\nFabric: Cotton Lycra Blend\\nPattern: Solid\\nNeck: Hooded\\nSleeve: Full Sleeve\\nStyle Code: 84477102Blue\\nOccasion: Sports\\nHooded: Yes\\nReversible: No\\nSuitable For: Western Wear\\nFabric Care: Dry in Shade, Do Not Bleach, Do Not Iron on Print/Embroidery/Embellishment, Machine Wash as per Tag\\n', 'metadata': {'product_id': '167a0109-db6a-5d41-b99c-0e03342b738a', 'pid': 'SWSF8CJBBMEFJYUD', 'category': 'Clothing and Accessories', 'sub_category': 'Winter Wear', 'brand': 'Pu', 'selling_price': 979, 'average_rating': 3.8, 'out_of_stock': 0, 'seller': 'RetailNet', 'images': ['https://rukminim1.flixcart.com/image/128/128/jq6y0sw0/sweatshirt/s/s/3/m-84477102blue-puma-original-imafc53asvd8gj7e.jpeg?q=70', 'https://rukminim1.flixcart.com/image/128/128/jq6y0sw0/sweatshirt/s/s/3/m-84477102blue-puma-original-imafc53amvdjbb5f.jpeg?q=70', 'https://rukminim1.flixcart.com/image/128/128/jq6y0sw0/sweatshirt/s/s/3/m-84477102blue-puma-original-imafc9bfmxwsmzr6.jpeg?q=70', 'https://rukminim1.flixcart.com/image/128/128/jq6y0sw0/sweatshirt/s/s/3/m-84477102blue-puma-original-imafc53aez7ceyf9.jpeg?q=70', 'https://rukminim1.flixcart.com/image/128/128/jq6y0sw0/sweatshirt/s/s/3/m-84477102blue-puma-original-imafc53bzguu6bk9.jpeg?q=70', 'https://rukminim1.flixcart.com/image/128/128/jq6y0sw0/sweatshirt/s/s/3/m-84477102blue-puma-original-imafc53azq7hnzrw.jpeg?q=70'], 'url': 'https://www.flipkart.com/puma-full-sleeve-solid-men-sweatshirt/p/itmf8cjbhzbh9hsy?pid=SWSF8CJBBMEFJYUD&lid=LSTSWSF8CJBBMEFJYUDDPUE3I&marketplace=FLIPKART&srno=b_24_953&otracker=browse&fm=organic&iid=abe922eb-2ba1-4655-9d5c-ea6387a3dad2.SWSF8CJBBMEFJYUD.SEARCH&ssid=gelaaxc8y80000001612411830793'}}, vector=None, shard_key=None, order_value=None),\n",
       " ScoredPoint(id='52fe6794-f94e-4e1a-bf0f-6f552174eb8d', version=26, score=0.5730376, payload={'page_content': 'Title: Full Sleeve Solid Men Sweatshirt\\nDescription: 35% off\\nCategory: Clothing and Accessories\\nSub Category: Winter Wear\\nBrand: REEB\\nPrice: ₹3278\\nRating: 3.4/5\\nSeller: RetailNet\\nProduct Details:\\nColor: Black\\nFabric: Polycotton\\nPattern: Solid\\nSleeve: Full Sleeve\\nStyle Code: CV4459BLACK\\nOccasion: Casual\\nHooded: Yes\\nReversible: No\\nSuitable For: Western Wear\\nFabric Care: Dry in Shade, Do Not Bleach, Do Not Iron on Print/Embroidery/Embellishment, Machine Wash as per Tag\\n', 'metadata': {'product_id': '797453c1-0011-5bd9-9598-9b2947ec823e', 'pid': 'SWSF7NWCAGZZJGXS', 'category': 'Clothing and Accessories', 'sub_category': 'Winter Wear', 'brand': 'REEB', 'selling_price': 3278, 'average_rating': 3.4, 'out_of_stock': 0, 'seller': 'RetailNet', 'images': ['https://rukminim1.flixcart.com/image/128/128/jmjhifk0/sweatshirt/x/7/z/m-cv4459black-reebok-original-imaf9fqgcp4yfwzy.jpeg?q=70', 'https://rukminim1.flixcart.com/image/128/128/jmjhifk0/sweatshirt/x/7/z/m-cv4459black-reebok-original-imaf9fqgpazvrqbz.jpeg?q=70', 'https://rukminim1.flixcart.com/image/128/128/jtd98y80/sweatshirt/x/7/z/m-cv4459black-reebok-original-imafeqavnhzy4wzb.jpeg?q=70', 'https://rukminim1.flixcart.com/image/128/128/jmjhifk0/sweatshirt/x/7/z/m-cv4459black-reebok-original-imaf9fqgq7zvyre3.jpeg?q=70', 'https://rukminim1.flixcart.com/image/128/128/jmjhifk0/sweatshirt/x/7/z/m-cv4459black-reebok-original-imaf9fqgx4azpafz.jpeg?q=70', 'https://rukminim1.flixcart.com/image/128/128/jmjhifk0/sweatshirt/x/7/z/m-cv4459black-reebok-original-imaf9fqgwxqxnggx.jpeg?q=70'], 'url': 'https://www.flipkart.com/reebok-full-sleeve-solid-men-sweatshirt/p/itmf7nwcsd4ttyhh?pid=SWSF7NWCAGZZJGXS&lid=LSTSWSF7NWCAGZZJGXSXDXNIG&marketplace=FLIPKART&srno=b_25_993&otracker=browse&fm=organic&iid=26846344-991f-430e-a25e-dfc7b0e5e882.SWSF7NWCAGZZJGXS.SEARCH&ssid=xot0lc87lc0000001612412493402'}}, vector=None, shard_key=None, order_value=None),\n",
       " ScoredPoint(id='8e9f77c2-9315-4100-9956-b7cce2cae466', version=23, score=0.56666017, payload={'page_content': 'Title: Full Sleeve Solid Men Sweatshirt\\nDescription: 35% off\\nCategory: Clothing and Accessories\\nSub Category: Winter Wear\\nBrand: REEB\\nPrice: ₹1754\\nRating: 3.8/5\\nSeller: RetailNet\\nProduct Details:\\nColor: Blue\\nFabric: Polycotton\\nPattern: Solid\\nSleeve: Full Sleeve\\nStyle Code: DP5125BUNBLU\\nOccasion: Sports\\nHooded: Yes\\nReversible: No\\nSuitable For: Western Wear\\nFabric Care: Dry in Shade, Do Not Bleach, Do Not Iron on Print/Embroidery/Embellishment, Machine Wash as per Tag\\n', 'metadata': {'product_id': '4d302d71-b525-530e-beb3-55e028827a26', 'pid': 'SWSF7NWC2DT8GKFT', 'category': 'Clothing and Accessories', 'sub_category': 'Winter Wear', 'brand': 'REEB', 'selling_price': 1754, 'average_rating': 3.8, 'out_of_stock': 0, 'seller': 'RetailNet', 'images': ['https://rukminim1.flixcart.com/image/128/128/jnxhx8w0/sweatshirt/y/x/z/m-dp5125bunblu-reebok-original-imafagm7eh8whjud.jpeg?q=70', 'https://rukminim1.flixcart.com/image/128/128/jnyxd3k0/sweatshirt/y/x/z/m-dp5125bunblu-reebok-original-imafagr6uyrennhh.jpeg?q=70', 'https://rukminim1.flixcart.com/image/128/128/jnyxd3k0/sweatshirt/y/x/z/m-dp5125bunblu-reebok-original-imafagq5ryahhtza.jpeg?q=70', 'https://rukminim1.flixcart.com/image/128/128/jnyxd3k0/sweatshirt/y/x/z/m-dp5125bunblu-reebok-original-imafagwefxfdcymk.jpeg?q=70', 'https://rukminim1.flixcart.com/image/128/128/jnyxd3k0/sweatshirt/y/x/z/m-dp5125bunblu-reebok-original-imafagskqpgfjgfn.jpeg?q=70', 'https://rukminim1.flixcart.com/image/128/128/jnyxd3k0/sweatshirt/y/x/z/m-dp5125bunblu-reebok-original-imafagtpyvxsy3df.jpeg?q=70'], 'url': 'https://www.flipkart.com/reebok-full-sleeve-solid-men-sweatshirt/p/itmf7nwcc7bare8h?pid=SWSF7NWC2DT8GKFT&lid=LSTSWSF7NWC2DT8GKFTSKQ6VC&marketplace=FLIPKART&srno=b_20_788&otracker=browse&fm=organic&iid=ba66ab5a-39e8-4ca3-9001-30ed41dc7f82.SWSF7NWC2DT8GKFT.SEARCH&ssid=m1ec036dz40000001612412489815'}}, vector=None, shard_key=None, order_value=None),\n",
       " ScoredPoint(id='42309a45-5340-4b70-b651-27661cc96350', version=271, score=0.5659, payload={'page_content': 'Title: Full Sleeve Printed Men Jacket\\nDescription: 55% off\\nCategory: Clothing and Accessories\\nSub Category: Winter Wear\\nBrand: Pu\\nPrice: ₹2699\\nRating: 4.2/5\\nSeller: RetailNet\\nProduct Details:\\nColor: Black\\nFabric: Polyester\\nPattern: Printed\\nStyle Code: 58260901\\nIdeal For: Men\\nSleeve: Full Sleeve\\nClosure: Zipper\\nSales Package: 1 Jacket\\nPack of: 1\\nSuitable For: Western Wear\\nReversible: No\\nHooded: No\\nFabric Care: Machine Wash as per Tag\\nFit: Regular\\nNeck: High Neck\\nPockets: Side Pockets\\nModel Name: VK Active Fullzip\\nDomestic Warranty: 3 Months\\n', 'metadata': {'product_id': '50986de7-262f-59e8-8c84-eccd03a1c3ae', 'pid': 'JCKFPCJUZZDKGNGN', 'category': 'Clothing and Accessories', 'sub_category': 'Winter Wear', 'brand': 'Pu', 'selling_price': 2699, 'average_rating': 4.2, 'out_of_stock': 0, 'seller': 'RetailNet', 'images': ['https://rukminim1.flixcart.com/image/128/128/k70spzk0/jacket/n/m/z/m-58260901-puma-original-imafpckxcdubmvsy.jpeg?q=70', 'https://rukminim1.flixcart.com/image/128/128/k70spzk0/jacket/n/m/z/s-58260901-puma-original-imafpckxywqhwtcq.jpeg?q=70', 'https://rukminim1.flixcart.com/image/128/128/k70spzk0/jacket/n/m/z/m-58260901-puma-original-imafpckx7xufm7su.jpeg?q=70', 'https://rukminim1.flixcart.com/image/128/128/k70spzk0/jacket/n/m/z/xs-58260901-puma-original-imafpckxzfmd9uwh.jpeg?q=70', 'https://rukminim1.flixcart.com/image/128/128/k70spzk0/jacket/n/m/z/xxl-58260901-puma-original-imafpckxdehrvz3f.jpeg?q=70'], 'url': 'https://www.flipkart.com/puma-full-sleeve-printed-men-jacket/p/itm9760980808e1a?pid=JCKFPCJUZZDKGNGN&lid=LSTJCKFPCJUZZDKGNGNKH78NU&marketplace=FLIPKART&srno=b_4_127&otracker=browse&fm=organic&iid=f51fc851-98d6-4981-b14b-517f7e7fbf17.JCKFPCJUZZDKGNGN.SEARCH&ssid=nqqiz8gaps0000001612411815392'}}, vector=None, shard_key=None, order_value=None),\n",
       " ScoredPoint(id='ff37d7d7-e041-4ca5-be00-a1ee3e80b43e', version=73, score=0.5618621, payload={'page_content': 'Title: Full Sleeve Solid Men Sweatshirt\\nDescription: 40% off\\nCategory: Clothing and Accessories\\nSub Category: Winter Wear\\nBrand: G\\nPrice: ₹4194\\nRating: 3.8/5\\nSeller: RetailNet\\nProduct Details:\\nColor: Red\\nFabric: Cotton Blend\\nPattern: Solid\\nSleeve: Full Sleeve\\nStyle Code: 927181354\\nOccasion: Casual\\nHooded: Yes\\nReversible: No\\nSuitable For: Western Wear\\nFabric Care: Gentle Machine Wash\\n', 'metadata': {'product_id': '154f3ef5-1321-51fc-87dd-cb1fe9c78427', 'pid': 'SWSF8S5M5UYTNVQC', 'category': 'Clothing and Accessories', 'sub_category': 'Winter Wear', 'brand': 'G', 'selling_price': 4194, 'average_rating': 3.8, 'out_of_stock': 0, 'seller': 'RetailNet', 'images': ['https://rukminim1.flixcart.com/image/128/128/jmqmpow0-1/sweatshirt/v/q/c/m-927181354-gas-original-imaf9hzehhvpfqzf.jpeg?q=70', 'https://rukminim1.flixcart.com/image/128/128/jmqmpow0-1/sweatshirt/v/q/c/m-927181354-gas-original-imaf9hzekrnfvgzq.jpeg?q=70', 'https://rukminim1.flixcart.com/image/128/128/jmqmpow0-1/sweatshirt/v/q/c/m-927181354-gas-original-imaf9hzed8ugbfhy.jpeg?q=70', 'https://rukminim1.flixcart.com/image/128/128/jmqmpow0-1/sweatshirt/v/q/c/m-927181354-gas-original-imaf9hzeqggazkug.jpeg?q=70', 'https://rukminim1.flixcart.com/image/128/128/jmqmpow0-1/sweatshirt/v/q/c/m-927181354-gas-original-imaf9hzeseutqrgb.jpeg?q=70', 'https://rukminim1.flixcart.com/image/128/128/jmqmpow0-1/sweatshirt/v/q/c/m-927181354-gas-original-imaf9hzedtuhd4ww.jpeg?q=70'], 'url': 'https://www.flipkart.com/gas-full-sleeve-solid-men-sweatshirt/p/itmf8s6g4ed5daey?pid=SWSF8S5M5UYTNVQC&lid=LSTSWSF8S5M5UYTNVQCIBSYUV&marketplace=FLIPKART&srno=b_2_53&otracker=browse&fm=organic&iid=4d9c5be3-b758-4472-bcf2-7b702002ec35.SWSF8S5M5UYTNVQC.SEARCH&ssid=wdo48uk1n40000001612106333693'}}, vector=None, shard_key=None, order_value=None)]"
      ]
     },
     "execution_count": 83,
     "metadata": {},
     "output_type": "execute_result"
    }
   ],
   "source": [
    "result"
   ]
  },
  {
   "cell_type": "code",
   "execution_count": null,
   "id": "47678fa7",
   "metadata": {},
   "outputs": [],
   "source": []
  }
 ],
 "metadata": {
  "kernelspec": {
   "display_name": ".venv",
   "language": "python",
   "name": "python3"
  },
  "language_info": {
   "codemirror_mode": {
    "name": "ipython",
    "version": 3
   },
   "file_extension": ".py",
   "mimetype": "text/x-python",
   "name": "python",
   "nbconvert_exporter": "python",
   "pygments_lexer": "ipython3",
   "version": "3.12.11"
  }
 },
 "nbformat": 4,
 "nbformat_minor": 5
}
